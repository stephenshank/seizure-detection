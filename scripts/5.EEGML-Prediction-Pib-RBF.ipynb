{
 "cells": [
  {
   "cell_type": "markdown",
   "metadata": {},
   "source": [
    "# Fit and predict using pib features and logistic regression"
   ]
  },
  {
   "cell_type": "code",
   "execution_count": 1,
   "metadata": {
    "collapsed": false
   },
   "outputs": [],
   "source": [
    "import pandas as pd\n",
    "import numpy as np\n",
    "import matplotlib.pyplot as plt\n",
    "import seaborn as sns\n",
    "from IPython.display import display\n",
    "from sklearn import preprocessing\n",
    "from sklearn.linear_model import SGDClassifier\n",
    "from sklearn.model_selection import train_test_split, GridSearchCV\n",
    "from sklearn.metrics import roc_auc_score, roc_curve\n",
    "from sklearn.pipeline import Pipeline\n",
    "from sklearn.preprocessing import StandardScaler, Imputer\n",
    "from sklearn.feature_selection import SelectKBest\n",
    "from sklearn.svm import SVC\n",
    "%matplotlib inline\n",
    "plt.style.use('seaborn-notebook')"
   ]
  },
  {
   "cell_type": "markdown",
   "metadata": {},
   "source": [
    "## Load data "
   ]
  },
  {
   "cell_type": "code",
   "execution_count": 2,
   "metadata": {
    "collapsed": false
   },
   "outputs": [
    {
     "data": {
      "text/html": [
       "<div>\n",
       "<table border=\"1\" class=\"dataframe\">\n",
       "  <thead>\n",
       "    <tr style=\"text-align: right;\">\n",
       "      <th></th>\n",
       "      <th>dir_name</th>\n",
       "      <th>file_name</th>\n",
       "      <th>path</th>\n",
       "      <th>patient</th>\n",
       "      <th>preictal</th>\n",
       "      <th>train</th>\n",
       "      <th>pib_3</th>\n",
       "      <th>pib_2</th>\n",
       "      <th>pib_1</th>\n",
       "    </tr>\n",
       "  </thead>\n",
       "  <tbody>\n",
       "    <tr>\n",
       "      <th>0</th>\n",
       "      <td>test_1</td>\n",
       "      <td>1_1.mat</td>\n",
       "      <td>test_1/1_1.mat</td>\n",
       "      <td>1</td>\n",
       "      <td>-1</td>\n",
       "      <td>0</td>\n",
       "      <td>848777</td>\n",
       "      <td>1897922</td>\n",
       "      <td>511194</td>\n",
       "    </tr>\n",
       "    <tr>\n",
       "      <th>1</th>\n",
       "      <td>test_1</td>\n",
       "      <td>1_10.mat</td>\n",
       "      <td>test_1/1_10.mat</td>\n",
       "      <td>1</td>\n",
       "      <td>-1</td>\n",
       "      <td>0</td>\n",
       "      <td>1805838</td>\n",
       "      <td>1484367</td>\n",
       "      <td>216014</td>\n",
       "    </tr>\n",
       "    <tr>\n",
       "      <th>2</th>\n",
       "      <td>test_1</td>\n",
       "      <td>1_100.mat</td>\n",
       "      <td>test_1/1_100.mat</td>\n",
       "      <td>1</td>\n",
       "      <td>-1</td>\n",
       "      <td>0</td>\n",
       "      <td>1241170</td>\n",
       "      <td>1900609</td>\n",
       "      <td>284337</td>\n",
       "    </tr>\n",
       "    <tr>\n",
       "      <th>3</th>\n",
       "      <td>test_1</td>\n",
       "      <td>1_1000.mat</td>\n",
       "      <td>test_1/1_1000.mat</td>\n",
       "      <td>1</td>\n",
       "      <td>-1</td>\n",
       "      <td>0</td>\n",
       "      <td>1743604</td>\n",
       "      <td>1513067</td>\n",
       "      <td>231791</td>\n",
       "    </tr>\n",
       "    <tr>\n",
       "      <th>4</th>\n",
       "      <td>test_1</td>\n",
       "      <td>1_1001.mat</td>\n",
       "      <td>test_1/1_1001.mat</td>\n",
       "      <td>1</td>\n",
       "      <td>-1</td>\n",
       "      <td>0</td>\n",
       "      <td>2139217</td>\n",
       "      <td>1235885</td>\n",
       "      <td>187611</td>\n",
       "    </tr>\n",
       "  </tbody>\n",
       "</table>\n",
       "</div>"
      ],
      "text/plain": [
       "  dir_name   file_name               path  patient  preictal  train    pib_3  \\\n",
       "0   test_1     1_1.mat     test_1/1_1.mat        1        -1      0   848777   \n",
       "1   test_1    1_10.mat    test_1/1_10.mat        1        -1      0  1805838   \n",
       "2   test_1   1_100.mat   test_1/1_100.mat        1        -1      0  1241170   \n",
       "3   test_1  1_1000.mat  test_1/1_1000.mat        1        -1      0  1743604   \n",
       "4   test_1  1_1001.mat  test_1/1_1001.mat        1        -1      0  2139217   \n",
       "\n",
       "     pib_2   pib_1  \n",
       "0  1897922  511194  \n",
       "1  1484367  216014  \n",
       "2  1900609  284337  \n",
       "3  1513067  231791  \n",
       "4  1235885  187611  "
      ]
     },
     "execution_count": 2,
     "metadata": {},
     "output_type": "execute_result"
    }
   ],
   "source": [
    "files_df = pd.read_pickle('../processed_data/files_df.pkl')\n",
    "files_df.head()"
   ]
  },
  {
   "cell_type": "markdown",
   "metadata": {},
   "source": [
    "## Extract useful data"
   ]
  },
  {
   "cell_type": "code",
   "execution_count": 3,
   "metadata": {
    "collapsed": false
   },
   "outputs": [
    {
     "data": {
      "text/html": [
       "<div>\n",
       "<table border=\"1\" class=\"dataframe\">\n",
       "  <thead>\n",
       "    <tr style=\"text-align: right;\">\n",
       "      <th></th>\n",
       "      <th>patient</th>\n",
       "      <th>preictal</th>\n",
       "      <th>train</th>\n",
       "      <th>pib_3</th>\n",
       "      <th>pib_2</th>\n",
       "      <th>pib_1</th>\n",
       "    </tr>\n",
       "    <tr>\n",
       "      <th>file_name</th>\n",
       "      <th></th>\n",
       "      <th></th>\n",
       "      <th></th>\n",
       "      <th></th>\n",
       "      <th></th>\n",
       "      <th></th>\n",
       "    </tr>\n",
       "  </thead>\n",
       "  <tbody>\n",
       "    <tr>\n",
       "      <th>1_1.mat</th>\n",
       "      <td>1</td>\n",
       "      <td>-1</td>\n",
       "      <td>0</td>\n",
       "      <td>848777</td>\n",
       "      <td>1897922</td>\n",
       "      <td>511194</td>\n",
       "    </tr>\n",
       "    <tr>\n",
       "      <th>1_10.mat</th>\n",
       "      <td>1</td>\n",
       "      <td>-1</td>\n",
       "      <td>0</td>\n",
       "      <td>1805838</td>\n",
       "      <td>1484367</td>\n",
       "      <td>216014</td>\n",
       "    </tr>\n",
       "    <tr>\n",
       "      <th>1_100.mat</th>\n",
       "      <td>1</td>\n",
       "      <td>-1</td>\n",
       "      <td>0</td>\n",
       "      <td>1241170</td>\n",
       "      <td>1900609</td>\n",
       "      <td>284337</td>\n",
       "    </tr>\n",
       "    <tr>\n",
       "      <th>1_1000.mat</th>\n",
       "      <td>1</td>\n",
       "      <td>-1</td>\n",
       "      <td>0</td>\n",
       "      <td>1743604</td>\n",
       "      <td>1513067</td>\n",
       "      <td>231791</td>\n",
       "    </tr>\n",
       "    <tr>\n",
       "      <th>1_1001.mat</th>\n",
       "      <td>1</td>\n",
       "      <td>-1</td>\n",
       "      <td>0</td>\n",
       "      <td>2139217</td>\n",
       "      <td>1235885</td>\n",
       "      <td>187611</td>\n",
       "    </tr>\n",
       "  </tbody>\n",
       "</table>\n",
       "</div>"
      ],
      "text/plain": [
       "            patient  preictal  train    pib_3    pib_2   pib_1\n",
       "file_name                                                     \n",
       "1_1.mat           1        -1      0   848777  1897922  511194\n",
       "1_10.mat          1        -1      0  1805838  1484367  216014\n",
       "1_100.mat         1        -1      0  1241170  1900609  284337\n",
       "1_1000.mat        1        -1      0  1743604  1513067  231791\n",
       "1_1001.mat        1        -1      0  2139217  1235885  187611"
      ]
     },
     "execution_count": 3,
     "metadata": {},
     "output_type": "execute_result"
    }
   ],
   "source": [
    "meta_df = files_df.set_index('file_name')\n",
    "meta_df = meta_df.loc[:,'patient':]\n",
    "meta_df.head()"
   ]
  },
  {
   "cell_type": "code",
   "execution_count": 4,
   "metadata": {
    "collapsed": false
   },
   "outputs": [
    {
     "data": {
      "text/html": [
       "<div>\n",
       "<table border=\"1\" class=\"dataframe\">\n",
       "  <thead>\n",
       "    <tr style=\"text-align: right;\">\n",
       "      <th></th>\n",
       "      <th>patient</th>\n",
       "      <th>pib_3</th>\n",
       "      <th>pib_2</th>\n",
       "      <th>pib_1</th>\n",
       "    </tr>\n",
       "    <tr>\n",
       "      <th>file_name</th>\n",
       "      <th></th>\n",
       "      <th></th>\n",
       "      <th></th>\n",
       "      <th></th>\n",
       "    </tr>\n",
       "  </thead>\n",
       "  <tbody>\n",
       "    <tr>\n",
       "      <th>1_1000_0.mat</th>\n",
       "      <td>1</td>\n",
       "      <td>789192</td>\n",
       "      <td>2056416</td>\n",
       "      <td>481576</td>\n",
       "    </tr>\n",
       "    <tr>\n",
       "      <th>1_1001_0.mat</th>\n",
       "      <td>1</td>\n",
       "      <td>824351</td>\n",
       "      <td>1985675</td>\n",
       "      <td>485730</td>\n",
       "    </tr>\n",
       "    <tr>\n",
       "      <th>1_1002_0.mat</th>\n",
       "      <td>1</td>\n",
       "      <td>945059</td>\n",
       "      <td>2082889</td>\n",
       "      <td>396960</td>\n",
       "    </tr>\n",
       "    <tr>\n",
       "      <th>1_1003_0.mat</th>\n",
       "      <td>1</td>\n",
       "      <td>796860</td>\n",
       "      <td>2068275</td>\n",
       "      <td>432816</td>\n",
       "    </tr>\n",
       "    <tr>\n",
       "      <th>1_1004_0.mat</th>\n",
       "      <td>1</td>\n",
       "      <td>997601</td>\n",
       "      <td>1962371</td>\n",
       "      <td>409753</td>\n",
       "    </tr>\n",
       "  </tbody>\n",
       "</table>\n",
       "</div>"
      ],
      "text/plain": [
       "              patient   pib_3    pib_2   pib_1\n",
       "file_name                                     \n",
       "1_1000_0.mat        1  789192  2056416  481576\n",
       "1_1001_0.mat        1  824351  1985675  485730\n",
       "1_1002_0.mat        1  945059  2082889  396960\n",
       "1_1003_0.mat        1  796860  2068275  432816\n",
       "1_1004_0.mat        1  997601  1962371  409753"
      ]
     },
     "metadata": {},
     "output_type": "display_data"
    },
    {
     "data": {
      "text/plain": [
       "file_name\n",
       "1_1000_0.mat    0\n",
       "1_1001_0.mat    0\n",
       "1_1002_0.mat    0\n",
       "1_1003_0.mat    0\n",
       "1_1004_0.mat    0\n",
       "Name: preictal, dtype: int64"
      ]
     },
     "metadata": {},
     "output_type": "display_data"
    }
   ],
   "source": [
    "# Train data\n",
    "X_train = meta_df[meta_df['train']==1]\n",
    "y_train = meta_df[meta_df['train']==1]['preictal']\n",
    "X_train = X_train.drop(['train','preictal'], axis=1)\n",
    "display(X_train.head())\n",
    "display(y_train.head())"
   ]
  },
  {
   "cell_type": "code",
   "execution_count": 5,
   "metadata": {
    "collapsed": false
   },
   "outputs": [
    {
     "data": {
      "text/html": [
       "<div>\n",
       "<table border=\"1\" class=\"dataframe\">\n",
       "  <thead>\n",
       "    <tr style=\"text-align: right;\">\n",
       "      <th></th>\n",
       "      <th>patient</th>\n",
       "      <th>pib_3</th>\n",
       "      <th>pib_2</th>\n",
       "      <th>pib_1</th>\n",
       "    </tr>\n",
       "    <tr>\n",
       "      <th>file_name</th>\n",
       "      <th></th>\n",
       "      <th></th>\n",
       "      <th></th>\n",
       "      <th></th>\n",
       "    </tr>\n",
       "  </thead>\n",
       "  <tbody>\n",
       "    <tr>\n",
       "      <th>1_1.mat</th>\n",
       "      <td>1</td>\n",
       "      <td>848777</td>\n",
       "      <td>1897922</td>\n",
       "      <td>511194</td>\n",
       "    </tr>\n",
       "    <tr>\n",
       "      <th>1_10.mat</th>\n",
       "      <td>1</td>\n",
       "      <td>1805838</td>\n",
       "      <td>1484367</td>\n",
       "      <td>216014</td>\n",
       "    </tr>\n",
       "    <tr>\n",
       "      <th>1_100.mat</th>\n",
       "      <td>1</td>\n",
       "      <td>1241170</td>\n",
       "      <td>1900609</td>\n",
       "      <td>284337</td>\n",
       "    </tr>\n",
       "    <tr>\n",
       "      <th>1_1000.mat</th>\n",
       "      <td>1</td>\n",
       "      <td>1743604</td>\n",
       "      <td>1513067</td>\n",
       "      <td>231791</td>\n",
       "    </tr>\n",
       "    <tr>\n",
       "      <th>1_1001.mat</th>\n",
       "      <td>1</td>\n",
       "      <td>2139217</td>\n",
       "      <td>1235885</td>\n",
       "      <td>187611</td>\n",
       "    </tr>\n",
       "  </tbody>\n",
       "</table>\n",
       "</div>"
      ],
      "text/plain": [
       "            patient    pib_3    pib_2   pib_1\n",
       "file_name                                    \n",
       "1_1.mat           1   848777  1897922  511194\n",
       "1_10.mat          1  1805838  1484367  216014\n",
       "1_100.mat         1  1241170  1900609  284337\n",
       "1_1000.mat        1  1743604  1513067  231791\n",
       "1_1001.mat        1  2139217  1235885  187611"
      ]
     },
     "metadata": {},
     "output_type": "display_data"
    }
   ],
   "source": [
    "# Test data\n",
    "X_test = meta_df[meta_df['train']==0]\n",
    "X_test = X_test.drop(['train','preictal'], axis=1)\n",
    "display(X_test.head())"
   ]
  },
  {
   "cell_type": "markdown",
   "metadata": {},
   "source": [
    "## Define pipeline and cross validation model fitting"
   ]
  },
  {
   "cell_type": "code",
   "execution_count": 6,
   "metadata": {
    "collapsed": false
   },
   "outputs": [],
   "source": [
    "param_grid = {\n",
    "    'classify__C': [.025,.05,.075,1,1.25],\n",
    "    'classify__gamma': [4,6,8,10],\n",
    "}\n",
    "\n",
    "pipeline = Pipeline(steps=[\n",
    "    ('imputer', Imputer()),    \n",
    "    ('standardize', StandardScaler()),\n",
    "    ('classify', SVC())\n",
    "])\n",
    "\n",
    "cv_pipeline =  GridSearchCV(estimator=pipeline, param_grid=param_grid, scoring='roc_auc')"
   ]
  },
  {
   "cell_type": "code",
   "execution_count": 7,
   "metadata": {
    "collapsed": false
   },
   "outputs": [
    {
     "name": "stdout",
     "output_type": "stream",
     "text": [
      "CPU times: user 29.7 s, sys: 251 ms, total: 30 s\n",
      "Wall time: 30.1 s\n"
     ]
    },
    {
     "data": {
      "text/plain": [
       "GridSearchCV(cv=None, error_score='raise',\n",
       "       estimator=Pipeline(steps=[('imputer', Imputer(axis=0, copy=True, missing_values='NaN', strategy='mean', verbose=0)), ('standardize', StandardScaler(copy=True, with_mean=True, with_std=True)), ('classify', SVC(C=1.0, cache_size=200, class_weight=None, coef0=0.0,\n",
       "  decision_function_shape=None, degree=3, gamma='auto', kernel='rbf',\n",
       "  max_iter=-1, probability=False, random_state=None, shrinking=True,\n",
       "  tol=0.001, verbose=False))]),\n",
       "       fit_params={}, iid=True, n_jobs=1,\n",
       "       param_grid={'classify__gamma': [4, 6, 8, 10], 'classify__C': [0.025, 0.05, 0.075, 1, 1.25]},\n",
       "       pre_dispatch='2*n_jobs', refit=True, return_train_score=True,\n",
       "       scoring='roc_auc', verbose=0)"
      ]
     },
     "execution_count": 7,
     "metadata": {},
     "output_type": "execute_result"
    }
   ],
   "source": [
    "%%time\n",
    "cv_pipeline.fit(X=X_train, y=y_train)"
   ]
  },
  {
   "cell_type": "code",
   "execution_count": 8,
   "metadata": {
    "collapsed": false
   },
   "outputs": [
    {
     "name": "stdout",
     "output_type": "stream",
     "text": [
      "60.364%\n",
      "{'classify__gamma': 10, 'classify__C': 0.05}\n"
     ]
    }
   ],
   "source": [
    "print('{:.3%}'.format(cv_pipeline.best_score_))\n",
    "print(cv_pipeline.best_params_)"
   ]
  },
  {
   "cell_type": "code",
   "execution_count": 9,
   "metadata": {
    "collapsed": false
   },
   "outputs": [
    {
     "data": {
      "text/html": [
       "<div>\n",
       "<table border=\"1\" class=\"dataframe\">\n",
       "  <thead>\n",
       "    <tr style=\"text-align: right;\">\n",
       "      <th></th>\n",
       "      <th>mean_fit_time</th>\n",
       "      <th>mean_score_time</th>\n",
       "      <th>mean_test_score</th>\n",
       "      <th>mean_train_score</th>\n",
       "      <th>param_classify__C</th>\n",
       "      <th>param_classify__gamma</th>\n",
       "      <th>params</th>\n",
       "      <th>rank_test_score</th>\n",
       "      <th>split0_test_score</th>\n",
       "      <th>split0_train_score</th>\n",
       "      <th>split1_test_score</th>\n",
       "      <th>split1_train_score</th>\n",
       "      <th>split2_test_score</th>\n",
       "      <th>split2_train_score</th>\n",
       "      <th>std_fit_time</th>\n",
       "      <th>std_score_time</th>\n",
       "      <th>std_test_score</th>\n",
       "      <th>std_train_score</th>\n",
       "      <th>classify__C</th>\n",
       "      <th>classify__gamma</th>\n",
       "    </tr>\n",
       "  </thead>\n",
       "  <tbody>\n",
       "    <tr>\n",
       "      <th>0</th>\n",
       "      <td>0.145248</td>\n",
       "      <td>0.042799</td>\n",
       "      <td>0.553053</td>\n",
       "      <td>0.628345</td>\n",
       "      <td>0.025</td>\n",
       "      <td>4</td>\n",
       "      <td>{'classify__gamma': 4, 'classify__C': 0.025}</td>\n",
       "      <td>9</td>\n",
       "      <td>0.695697</td>\n",
       "      <td>0.618433</td>\n",
       "      <td>0.47117</td>\n",
       "      <td>0.658277</td>\n",
       "      <td>0.492293</td>\n",
       "      <td>0.608324</td>\n",
       "      <td>0.019186</td>\n",
       "      <td>0.002034</td>\n",
       "      <td>0.101233</td>\n",
       "      <td>0.021564</td>\n",
       "      <td>0.025</td>\n",
       "      <td>4</td>\n",
       "    </tr>\n",
       "    <tr>\n",
       "      <th>1</th>\n",
       "      <td>0.133989</td>\n",
       "      <td>0.041714</td>\n",
       "      <td>0.527606</td>\n",
       "      <td>0.667243</td>\n",
       "      <td>0.025</td>\n",
       "      <td>6</td>\n",
       "      <td>{'classify__gamma': 6, 'classify__C': 0.025}</td>\n",
       "      <td>20</td>\n",
       "      <td>0.683340</td>\n",
       "      <td>0.681705</td>\n",
       "      <td>0.40917</td>\n",
       "      <td>0.643027</td>\n",
       "      <td>0.490308</td>\n",
       "      <td>0.676998</td>\n",
       "      <td>0.005004</td>\n",
       "      <td>0.005469</td>\n",
       "      <td>0.114995</td>\n",
       "      <td>0.017231</td>\n",
       "      <td>0.025</td>\n",
       "      <td>6</td>\n",
       "    </tr>\n",
       "  </tbody>\n",
       "</table>\n",
       "</div>"
      ],
      "text/plain": [
       "   mean_fit_time  mean_score_time  mean_test_score  mean_train_score  \\\n",
       "0       0.145248         0.042799         0.553053          0.628345   \n",
       "1       0.133989         0.041714         0.527606          0.667243   \n",
       "\n",
       "  param_classify__C param_classify__gamma  \\\n",
       "0             0.025                     4   \n",
       "1             0.025                     6   \n",
       "\n",
       "                                         params  rank_test_score  \\\n",
       "0  {'classify__gamma': 4, 'classify__C': 0.025}                9   \n",
       "1  {'classify__gamma': 6, 'classify__C': 0.025}               20   \n",
       "\n",
       "   split0_test_score  split0_train_score  split1_test_score  \\\n",
       "0           0.695697            0.618433            0.47117   \n",
       "1           0.683340            0.681705            0.40917   \n",
       "\n",
       "   split1_train_score  split2_test_score  split2_train_score  std_fit_time  \\\n",
       "0            0.658277           0.492293            0.608324      0.019186   \n",
       "1            0.643027           0.490308            0.676998      0.005004   \n",
       "\n",
       "   std_score_time  std_test_score  std_train_score  classify__C  \\\n",
       "0        0.002034        0.101233         0.021564        0.025   \n",
       "1        0.005469        0.114995         0.017231        0.025   \n",
       "\n",
       "   classify__gamma  \n",
       "0                4  \n",
       "1                6  "
      ]
     },
     "execution_count": 9,
     "metadata": {},
     "output_type": "execute_result"
    }
   ],
   "source": [
    "cv_result_df = pd.concat([\n",
    "    pd.DataFrame(cv_pipeline.cv_results_),\n",
    "    pd.DataFrame.from_records(cv_pipeline.cv_results_['params']),\n",
    "], axis='columns')\n",
    "cv_result_df.head(2)"
   ]
  },
  {
   "cell_type": "code",
   "execution_count": 10,
   "metadata": {
    "collapsed": false
   },
   "outputs": [
    {
     "data": {
      "image/png": "[encoded data removed]",
      "text/plain": [
       "<matplotlib.figure.Figure at 0x117f3e550>"
      ]
     },
     "metadata": {},
     "output_type": "display_data"
    }
   ],
   "source": [
    "# Cross-validated performance heatmap\n",
    "ax = plt.figure()\n",
    "cv_score_mat = pd.pivot_table(cv_result_df, values='mean_test_score', index='classify__C', columns='classify__gamma')\n",
    "\n",
    "ax = sns.heatmap(cv_score_mat, annot=True, fmt='.1%')\n",
    "ax.set_xlabel('Penalty parameter of error term(C)')\n",
    "ax.set_ylabel('Kernel coefficient (gamma)');"
   ]
  },
  {
   "cell_type": "markdown",
   "metadata": {},
   "source": [
    "## Use Optimal Hyperparameters to Output ROC Curve"
   ]
  },
  {
   "cell_type": "code",
   "execution_count": 14,
   "metadata": {
    "collapsed": false
   },
   "outputs": [],
   "source": [
    "def get_threshold_metrics(y_true, y_pred):\n",
    "    roc_columns = ['fpr', 'tpr', 'threshold']\n",
    "    roc_items = zip(roc_columns, roc_curve(y_true, y_pred))\n",
    "    roc_df = pd.DataFrame.from_items(roc_items)\n",
    "    auroc = roc_auc_score(y_true, y_pred)\n",
    "    return {'auroc': auroc, 'roc_df': roc_df}\n",
    "\n",
    "y_pred_train = cv_pipeline.decision_function(X_train)\n",
    "metrics_train = get_threshold_metrics(y_train, y_pred_train)"
   ]
  },
  {
   "cell_type": "code",
   "execution_count": 86,
   "metadata": {
    "collapsed": false
   },
   "outputs": [
    {
     "data": {
      "image/png": "[encoded data removed]",
      "text/plain": [
       "<matplotlib.figure.Figure at 0x119163c50>"
      ]
     },
     "metadata": {},
     "output_type": "display_data"
    }
   ],
   "source": [
    "roc_df = metrics_train['roc_df']\n",
    "plt.plot(roc_df.fpr, roc_df.tpr,\n",
    "label='{} (AUROC = {:.1%})'.format('training', metrics_train['auroc']))\n",
    "plt.xlim([0.0, 1.0])\n",
    "plt.ylim([0.0, 1.05])\n",
    "plt.xlabel('False Positive Rate')\n",
    "plt.ylabel('True Positive Rate')\n",
    "plt.title('Predicting TP53 mutation from gene expression (ROC curves)')\n",
    "plt.legend(loc='lower right');"
   ]
  },
  {
   "cell_type": "markdown",
   "metadata": {},
   "source": [
    "## Predict test ictal status and save as csv"
   ]
  },
  {
   "cell_type": "code",
   "execution_count": 88,
   "metadata": {
    "collapsed": false
   },
   "outputs": [
    {
     "data": {
      "text/html": [
       "<div>\n",
       "<table border=\"1\" class=\"dataframe\">\n",
       "  <thead>\n",
       "    <tr style=\"text-align: right;\">\n",
       "      <th></th>\n",
       "      <th>File</th>\n",
       "      <th>Class</th>\n",
       "    </tr>\n",
       "  </thead>\n",
       "  <tbody>\n",
       "    <tr>\n",
       "      <th>0</th>\n",
       "      <td>1_1.mat</td>\n",
       "      <td>0</td>\n",
       "    </tr>\n",
       "    <tr>\n",
       "      <th>1</th>\n",
       "      <td>1_10.mat</td>\n",
       "      <td>0</td>\n",
       "    </tr>\n",
       "    <tr>\n",
       "      <th>2</th>\n",
       "      <td>1_100.mat</td>\n",
       "      <td>0</td>\n",
       "    </tr>\n",
       "    <tr>\n",
       "      <th>3</th>\n",
       "      <td>1_1000.mat</td>\n",
       "      <td>0</td>\n",
       "    </tr>\n",
       "    <tr>\n",
       "      <th>4</th>\n",
       "      <td>1_1001.mat</td>\n",
       "      <td>0</td>\n",
       "    </tr>\n",
       "  </tbody>\n",
       "</table>\n",
       "</div>"
      ],
      "text/plain": [
       "         File  Class\n",
       "0     1_1.mat      0\n",
       "1    1_10.mat      0\n",
       "2   1_100.mat      0\n",
       "3  1_1000.mat      0\n",
       "4  1_1001.mat      0"
      ]
     },
     "execution_count": 88,
     "metadata": {},
     "output_type": "execute_result"
    }
   ],
   "source": [
    "y_pred_test = cv_pipeline.predict(X_test)\n",
    "output_df = pd.DataFrame({'File':X_test.index.values, 'Class': y_pred_test})\n",
    "output_df = output_df[['File','Class']]\n",
    "output_df.to_csv('../submissions/submission_5.csv',index=False)\n",
    "output_df.head()"
   ]
  }
 ],
 "metadata": {
  "kernelspec": {
   "display_name": "Python 3",
   "language": "python",
   "name": "python3"
  },
  "language_info": {
   "codemirror_mode": {
    "name": "ipython",
    "version": 3
   },
   "file_extension": ".py",
   "mimetype": "text/x-python",
   "name": "python",
   "nbconvert_exporter": "python",
   "pygments_lexer": "ipython3",
   "version": "3.5.2"
  }
 },
 "nbformat": 4,
 "nbformat_minor": 0
}
